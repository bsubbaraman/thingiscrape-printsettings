{
 "cells": [
  {
   "cell_type": "code",
   "execution_count": null,
   "metadata": {},
   "outputs": [],
   "source": [
    "# !pip install pandas\n",
    "import pandas"
   ]
  },
  {
   "cell_type": "code",
   "execution_count": null,
   "metadata": {},
   "outputs": [],
   "source": [
    "# Import the data by category\n",
    "learning = pandas.read_csv('./learning_export.csv')\n",
    "models = pandas.read_csv('./models_export.csv')\n",
    "gadgets = pandas.read_csv('./gadgets_export.csv')\n",
    "tools = pandas.read_csv('./tools_export.csv')\n",
    "toys = pandas.read_csv('./toys-and-games_export.csv')\n",
    "fashion = pandas.read_csv('./fashion_export.csv')\n",
    "art = pandas.read_csv('./art_export.csv')\n",
    "hobby = pandas.read_csv('./hobby_export.csv')\n",
    "household = pandas.read_csv('./household_export.csv')\n",
    "printing = pandas.read_csv('./3d-printing_export.csv')"
   ]
  },
  {
   "cell_type": "code",
   "execution_count": null,
   "metadata": {},
   "outputs": [],
   "source": [
    "# Merge into one dataframe\n",
    "merged = pandas.concat([learning, models, gadgets, tools, toys, fashion, art, hobby, household, printing], ignore_index=True, sort=False)"
   ]
  },
  {
   "cell_type": "code",
   "execution_count": null,
   "metadata": {},
   "outputs": [],
   "source": [
    "# Sort by Thing ID\n",
    "sorted = merged.sort_values(by=['id'], ascending=[True])\n",
    "sorted"
   ]
  },
  {
   "cell_type": "code",
   "execution_count": null,
   "metadata": {},
   "outputs": [],
   "source": [
    "# Drop any duplicates\n",
    "sorted = sorted.drop_duplicates()"
   ]
  },
  {
   "cell_type": "code",
   "execution_count": null,
   "metadata": {},
   "outputs": [],
   "source": [
    "# What are the max and min?\n",
    "print(sorted.id.max())\n",
    "print(sorted.id.min())"
   ]
  },
  {
   "cell_type": "code",
   "execution_count": null,
   "metadata": {},
   "outputs": [],
   "source": [
    "# Save the full csv\n",
    "sorted.to_csv('thingiverse-full-dataset.csv')"
   ]
  },
  {
   "cell_type": "code",
   "execution_count": null,
   "metadata": {},
   "outputs": [],
   "source": [
    "# Filter out everything but the IDs\n",
    "thingiverse_ids = sorted.filter(['id'])"
   ]
  },
  {
   "cell_type": "code",
   "execution_count": null,
   "metadata": {},
   "outputs": [],
   "source": [
    "# Save the ids in a csv\n",
    "thingiverse_ids.to_csv('thingiverse-ids.csv')"
   ]
  },
  {
   "cell_type": "code",
   "execution_count": null,
   "metadata": {},
   "outputs": [],
   "source": []
  },
  {
   "cell_type": "code",
   "execution_count": null,
   "metadata": {},
   "outputs": [],
   "source": [
    "# To check if an ID exists\n",
    "thingiverse_ids['id'].eq(203).any()"
   ]
  }
 ],
 "metadata": {
  "kernelspec": {
   "display_name": "duckweed",
   "language": "python",
   "name": "python3"
  },
  "language_info": {
   "codemirror_mode": {
    "name": "ipython",
    "version": 3
   },
   "file_extension": ".py",
   "mimetype": "text/x-python",
   "name": "python",
   "nbconvert_exporter": "python",
   "pygments_lexer": "ipython3",
   "version": "3.8.9"
  }
 },
 "nbformat": 4,
 "nbformat_minor": 2
}
